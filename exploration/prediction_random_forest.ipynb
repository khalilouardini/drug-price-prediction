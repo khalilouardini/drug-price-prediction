{
 "cells": [
  {
   "cell_type": "markdown",
   "metadata": {},
   "source": [
    "# Prediction with Random Forest"
   ]
  },
  {
   "cell_type": "code",
   "execution_count": 67,
   "metadata": {},
   "outputs": [],
   "source": [
    "import pandas as pd\n",
    "import numpy as np\n",
    "import unicodedata\n",
    "from sklearn.preprocessing import LabelEncoder, OneHotEncoder\n",
    "from sklearn.feature_extraction import DictVectorizer\n",
    "from sklearn.model_selection import KFold\n",
    "from sklearn.ensemble import RandomForestRegressor\n",
    "import matplotlib.pyplot as plt\n",
    "%matplotlib inline \n",
    "import seaborn as sns\n",
    "import time, math\n",
    "import pandas as pd\n",
    "from sklearn.feature_extraction.text import TfidfVectorizer\n",
    "from sklearn.metrics import mean_squared_error as mse\n",
    "from sklearn.metrics import mean_absolute_error as mae\n",
    "from sklearn.metrics import make_scorer\n",
    "from sklearn.decomposition import PCA\n",
    "from scipy.stats import spearmanr, pearsonr\n",
    "from sklearn.model_selection import train_test_split\n",
    "from sklearn.model_selection import RandomizedSearchCV"
   ]
  },
  {
   "cell_type": "markdown",
   "metadata": {},
   "source": [
    "### Import the preprocessed Data"
   ]
  },
  {
   "cell_type": "code",
   "execution_count": 21,
   "metadata": {},
   "outputs": [
    {
     "data": {
      "text/plain": [
       "((8564, 595), (3671, 549))"
      ]
     },
     "execution_count": 21,
     "metadata": {},
     "output_type": "execute_result"
    }
   ],
   "source": [
    "train_df = pd.read_csv('data/preprocessed/preprocessed_drugs_train.csv', index_col=0)\n",
    "test_df = pd.read_csv('data/preprocessed/preprocessed_drugs_test.csv', index_col=0)\n",
    "\n",
    "train_df.shape, test_df.shape"
   ]
  },
  {
   "cell_type": "code",
   "execution_count": 22,
   "metadata": {},
   "outputs": [
    {
     "data": {
      "text/html": [
       "<div>\n",
       "<style scoped>\n",
       "    .dataframe tbody tr th:only-of-type {\n",
       "        vertical-align: middle;\n",
       "    }\n",
       "\n",
       "    .dataframe tbody tr th {\n",
       "        vertical-align: top;\n",
       "    }\n",
       "\n",
       "    .dataframe thead th {\n",
       "        text-align: right;\n",
       "    }\n",
       "</style>\n",
       "<table border=\"1\" class=\"dataframe\">\n",
       "  <thead>\n",
       "    <tr style=\"text-align: right;\">\n",
       "      <th></th>\n",
       "      <th>drug_id</th>\n",
       "      <th>administrative_status</th>\n",
       "      <th>approved_for_hospital_use</th>\n",
       "      <th>reimbursement_rate</th>\n",
       "      <th>marketing_declaration_date</th>\n",
       "      <th>marketing_authorization_date</th>\n",
       "      <th>price</th>\n",
       "      <th>logprice</th>\n",
       "      <th>marketing_authorization_process=autorisation d'importation parallèle</th>\n",
       "      <th>marketing_authorization_process=procédure centralisée</th>\n",
       "      <th>...</th>\n",
       "      <th>pca_activ_382</th>\n",
       "      <th>pca_activ_383</th>\n",
       "      <th>pca_activ_384</th>\n",
       "      <th>pca_activ_385</th>\n",
       "      <th>pca_activ_386</th>\n",
       "      <th>pca_activ_387</th>\n",
       "      <th>pca_activ_388</th>\n",
       "      <th>pca_activ_389</th>\n",
       "      <th>pca_activ_390</th>\n",
       "      <th>pca_activ_391</th>\n",
       "    </tr>\n",
       "  </thead>\n",
       "  <tbody>\n",
       "    <tr>\n",
       "      <th>0</th>\n",
       "      <td>0_train</td>\n",
       "      <td>1</td>\n",
       "      <td>1</td>\n",
       "      <td>5</td>\n",
       "      <td>2014</td>\n",
       "      <td>2014</td>\n",
       "      <td>2.83</td>\n",
       "      <td>1.040277</td>\n",
       "      <td>0</td>\n",
       "      <td>0</td>\n",
       "      <td>...</td>\n",
       "      <td>0.019471</td>\n",
       "      <td>-0.050241</td>\n",
       "      <td>0.075678</td>\n",
       "      <td>-0.180086</td>\n",
       "      <td>-0.056829</td>\n",
       "      <td>0.018404</td>\n",
       "      <td>0.065872</td>\n",
       "      <td>0.006508</td>\n",
       "      <td>0.010035</td>\n",
       "      <td>6.326715e-15</td>\n",
       "    </tr>\n",
       "    <tr>\n",
       "      <th>1</th>\n",
       "      <td>1_train</td>\n",
       "      <td>1</td>\n",
       "      <td>1</td>\n",
       "      <td>5</td>\n",
       "      <td>2013</td>\n",
       "      <td>2009</td>\n",
       "      <td>14.30</td>\n",
       "      <td>2.660260</td>\n",
       "      <td>0</td>\n",
       "      <td>0</td>\n",
       "      <td>...</td>\n",
       "      <td>0.004439</td>\n",
       "      <td>-0.191459</td>\n",
       "      <td>-0.088540</td>\n",
       "      <td>0.093350</td>\n",
       "      <td>-0.144961</td>\n",
       "      <td>-0.146435</td>\n",
       "      <td>-0.043342</td>\n",
       "      <td>-0.053204</td>\n",
       "      <td>-0.114939</td>\n",
       "      <td>1.353930e-14</td>\n",
       "    </tr>\n",
       "    <tr>\n",
       "      <th>2</th>\n",
       "      <td>2_train</td>\n",
       "      <td>1</td>\n",
       "      <td>1</td>\n",
       "      <td>5</td>\n",
       "      <td>2000</td>\n",
       "      <td>1996</td>\n",
       "      <td>5.66</td>\n",
       "      <td>1.733424</td>\n",
       "      <td>0</td>\n",
       "      <td>0</td>\n",
       "      <td>...</td>\n",
       "      <td>-0.025441</td>\n",
       "      <td>0.029313</td>\n",
       "      <td>-0.016844</td>\n",
       "      <td>-0.056362</td>\n",
       "      <td>0.029476</td>\n",
       "      <td>0.009436</td>\n",
       "      <td>0.000652</td>\n",
       "      <td>0.001061</td>\n",
       "      <td>0.001770</td>\n",
       "      <td>-4.868899e-15</td>\n",
       "    </tr>\n",
       "    <tr>\n",
       "      <th>3</th>\n",
       "      <td>3_train</td>\n",
       "      <td>1</td>\n",
       "      <td>1</td>\n",
       "      <td>5</td>\n",
       "      <td>2005</td>\n",
       "      <td>2004</td>\n",
       "      <td>24.27</td>\n",
       "      <td>3.189241</td>\n",
       "      <td>0</td>\n",
       "      <td>0</td>\n",
       "      <td>...</td>\n",
       "      <td>-0.018233</td>\n",
       "      <td>-0.457792</td>\n",
       "      <td>-0.809749</td>\n",
       "      <td>0.712797</td>\n",
       "      <td>0.178036</td>\n",
       "      <td>0.038852</td>\n",
       "      <td>-0.038273</td>\n",
       "      <td>-0.029904</td>\n",
       "      <td>0.013671</td>\n",
       "      <td>-1.646763e-14</td>\n",
       "    </tr>\n",
       "    <tr>\n",
       "      <th>4</th>\n",
       "      <td>4_train</td>\n",
       "      <td>1</td>\n",
       "      <td>0</td>\n",
       "      <td>4</td>\n",
       "      <td>2015</td>\n",
       "      <td>2010</td>\n",
       "      <td>59.94</td>\n",
       "      <td>4.093344</td>\n",
       "      <td>0</td>\n",
       "      <td>0</td>\n",
       "      <td>...</td>\n",
       "      <td>0.013399</td>\n",
       "      <td>-0.034579</td>\n",
       "      <td>0.052155</td>\n",
       "      <td>-0.124235</td>\n",
       "      <td>-0.039282</td>\n",
       "      <td>0.012741</td>\n",
       "      <td>0.045613</td>\n",
       "      <td>0.004511</td>\n",
       "      <td>0.006961</td>\n",
       "      <td>8.452655e-16</td>\n",
       "    </tr>\n",
       "  </tbody>\n",
       "</table>\n",
       "<p>5 rows × 595 columns</p>\n",
       "</div>"
      ],
      "text/plain": [
       "   drug_id  administrative_status  approved_for_hospital_use  \\\n",
       "0  0_train                      1                          1   \n",
       "1  1_train                      1                          1   \n",
       "2  2_train                      1                          1   \n",
       "3  3_train                      1                          1   \n",
       "4  4_train                      1                          0   \n",
       "\n",
       "   reimbursement_rate  marketing_declaration_date  \\\n",
       "0                   5                        2014   \n",
       "1                   5                        2013   \n",
       "2                   5                        2000   \n",
       "3                   5                        2005   \n",
       "4                   4                        2015   \n",
       "\n",
       "   marketing_authorization_date  price  logprice  \\\n",
       "0                          2014   2.83  1.040277   \n",
       "1                          2009  14.30  2.660260   \n",
       "2                          1996   5.66  1.733424   \n",
       "3                          2004  24.27  3.189241   \n",
       "4                          2010  59.94  4.093344   \n",
       "\n",
       "   marketing_authorization_process=autorisation d'importation parallèle  \\\n",
       "0                                                  0                       \n",
       "1                                                  0                       \n",
       "2                                                  0                       \n",
       "3                                                  0                       \n",
       "4                                                  0                       \n",
       "\n",
       "   marketing_authorization_process=procédure centralisée  ...  \\\n",
       "0                                                  0        ...   \n",
       "1                                                  0        ...   \n",
       "2                                                  0        ...   \n",
       "3                                                  0        ...   \n",
       "4                                                  0        ...   \n",
       "\n",
       "   pca_activ_382  pca_activ_383  pca_activ_384  pca_activ_385  pca_activ_386  \\\n",
       "0       0.019471      -0.050241       0.075678      -0.180086      -0.056829   \n",
       "1       0.004439      -0.191459      -0.088540       0.093350      -0.144961   \n",
       "2      -0.025441       0.029313      -0.016844      -0.056362       0.029476   \n",
       "3      -0.018233      -0.457792      -0.809749       0.712797       0.178036   \n",
       "4       0.013399      -0.034579       0.052155      -0.124235      -0.039282   \n",
       "\n",
       "   pca_activ_387  pca_activ_388  pca_activ_389  pca_activ_390  pca_activ_391  \n",
       "0       0.018404       0.065872       0.006508       0.010035   6.326715e-15  \n",
       "1      -0.146435      -0.043342      -0.053204      -0.114939   1.353930e-14  \n",
       "2       0.009436       0.000652       0.001061       0.001770  -4.868899e-15  \n",
       "3       0.038852      -0.038273      -0.029904       0.013671  -1.646763e-14  \n",
       "4       0.012741       0.045613       0.004511       0.006961   8.452655e-16  \n",
       "\n",
       "[5 rows x 595 columns]"
      ]
     },
     "execution_count": 22,
     "metadata": {},
     "output_type": "execute_result"
    }
   ],
   "source": [
    "train_df.head()"
   ]
  },
  {
   "cell_type": "markdown",
   "metadata": {},
   "source": [
    "Drop 'price' and 'drug id' columns"
   ]
  },
  {
   "cell_type": "code",
   "execution_count": 25,
   "metadata": {},
   "outputs": [],
   "source": [
    "#train_df = train_df.drop(['price', 'drug_id'], axis=1)\n",
    "#train_df.head()"
   ]
  },
  {
   "cell_type": "code",
   "execution_count": 26,
   "metadata": {},
   "outputs": [],
   "source": [
    "# Mean Absolute Percentage Error\n",
    "def mape_error(y_true, y_pred): \n",
    "    return np.mean(np.abs((y_true - y_pred) / y_true)) * 100\n",
    "\n",
    "mape = make_scorer(mape_error, greater_is_better=False)"
   ]
  },
  {
   "cell_type": "code",
   "execution_count": 61,
   "metadata": {},
   "outputs": [],
   "source": [
    "hyperparameters = {'n_estimators': 50, \n",
    "                'n_jobs': -1, \n",
    "                'verbose': 1\n",
    "                }   \n",
    "\n",
    "FEATURES = [col for col in train_df.columns if col not in ['price', 'logprice', 'drug_id']]"
   ]
  },
  {
   "cell_type": "code",
   "execution_count": 63,
   "metadata": {},
   "outputs": [
    {
     "name": "stderr",
     "output_type": "stream",
     "text": [
      "[Parallel(n_jobs=-1)]: Using backend ThreadingBackend with 8 concurrent workers.\n",
      "[Parallel(n_jobs=-1)]: Done  34 tasks      | elapsed:   14.9s\n",
      "[Parallel(n_jobs=-1)]: Done  50 out of  50 | elapsed:   20.0s finished\n",
      "[Parallel(n_jobs=8)]: Using backend ThreadingBackend with 8 concurrent workers.\n",
      "[Parallel(n_jobs=8)]: Done  34 tasks      | elapsed:    0.0s\n",
      "[Parallel(n_jobs=8)]: Done  50 out of  50 | elapsed:    0.0s finished\n",
      "[Parallel(n_jobs=-1)]: Using backend ThreadingBackend with 8 concurrent workers.\n"
     ]
    },
    {
     "name": "stdout",
     "output_type": "stream",
     "text": [
      "Fit in 20.063s\n",
      "MAPE error: 49.00663915420868 | MSE error: 55.39819017708713 | MAE error: 14.287836528337152\n"
     ]
    },
    {
     "name": "stderr",
     "output_type": "stream",
     "text": [
      "[Parallel(n_jobs=-1)]: Done  34 tasks      | elapsed:   14.9s\n",
      "[Parallel(n_jobs=-1)]: Done  50 out of  50 | elapsed:   20.2s finished\n",
      "[Parallel(n_jobs=8)]: Using backend ThreadingBackend with 8 concurrent workers.\n",
      "[Parallel(n_jobs=8)]: Done  34 tasks      | elapsed:    0.0s\n",
      "[Parallel(n_jobs=8)]: Done  50 out of  50 | elapsed:    0.0s finished\n"
     ]
    },
    {
     "name": "stdout",
     "output_type": "stream",
     "text": [
      "Fit in 20.284s\n",
      "MAPE error: 49.374731166345306 | MSE error: 52.771999073033186 | MAE error: 13.312335688957127\n"
     ]
    },
    {
     "name": "stderr",
     "output_type": "stream",
     "text": [
      "[Parallel(n_jobs=-1)]: Using backend ThreadingBackend with 8 concurrent workers.\n",
      "[Parallel(n_jobs=-1)]: Done  34 tasks      | elapsed:   15.6s\n",
      "[Parallel(n_jobs=-1)]: Done  50 out of  50 | elapsed:   20.5s finished\n",
      "[Parallel(n_jobs=8)]: Using backend ThreadingBackend with 8 concurrent workers.\n",
      "[Parallel(n_jobs=8)]: Done  34 tasks      | elapsed:    0.0s\n",
      "[Parallel(n_jobs=8)]: Done  50 out of  50 | elapsed:    0.0s finished\n"
     ]
    },
    {
     "name": "stdout",
     "output_type": "stream",
     "text": [
      "Fit in 20.590s\n",
      "MAPE error: 46.83849207425237 | MSE error: 58.295954824977485 | MAE error: 14.604012262241177\n"
     ]
    },
    {
     "name": "stderr",
     "output_type": "stream",
     "text": [
      "[Parallel(n_jobs=-1)]: Using backend ThreadingBackend with 8 concurrent workers.\n",
      "[Parallel(n_jobs=-1)]: Done  34 tasks      | elapsed:   15.9s\n",
      "[Parallel(n_jobs=-1)]: Done  50 out of  50 | elapsed:   20.8s finished\n",
      "[Parallel(n_jobs=8)]: Using backend ThreadingBackend with 8 concurrent workers.\n",
      "[Parallel(n_jobs=8)]: Done  34 tasks      | elapsed:    0.0s\n",
      "[Parallel(n_jobs=8)]: Done  50 out of  50 | elapsed:    0.0s finished\n"
     ]
    },
    {
     "name": "stdout",
     "output_type": "stream",
     "text": [
      "Fit in 20.908s\n",
      "MAPE error: 46.1472612014067 | MSE error: 68.51654299311252 | MAE error: 16.49549382511017\n"
     ]
    },
    {
     "name": "stderr",
     "output_type": "stream",
     "text": [
      "[Parallel(n_jobs=-1)]: Using backend ThreadingBackend with 8 concurrent workers.\n",
      "[Parallel(n_jobs=-1)]: Done  34 tasks      | elapsed:   15.7s\n"
     ]
    },
    {
     "name": "stdout",
     "output_type": "stream",
     "text": [
      "Fit in 20.680s\n",
      "MAPE error: 44.10237080415828 | MSE error: 57.04387227884879 | MAE error: 14.208981721619132\n",
      "*** MAPE Error : mean = 47.09389888007426 ; std = 1.93759474785204\n",
      "*** RMSE Error : mean = 58.40531186941182 ; std = 5.382926072186142\n",
      "*** MAE Error : mean = 14.58173200525295 ; std = 1.0487769110845968\n"
     ]
    },
    {
     "name": "stderr",
     "output_type": "stream",
     "text": [
      "[Parallel(n_jobs=-1)]: Done  50 out of  50 | elapsed:   20.6s finished\n",
      "[Parallel(n_jobs=8)]: Using backend ThreadingBackend with 8 concurrent workers.\n",
      "[Parallel(n_jobs=8)]: Done  34 tasks      | elapsed:    0.0s\n",
      "[Parallel(n_jobs=8)]: Done  50 out of  50 | elapsed:    0.0s finished\n"
     ]
    }
   ],
   "source": [
    "mape_err = []\n",
    "rmse_err = []\n",
    "mae_err = []\n",
    "\n",
    "X = train_df[FEATURES].values\n",
    "y = train_df['logprice'].values\n",
    "\n",
    "kfold = KFold(n_splits=5)\n",
    "kfold = KFold(n_splits=5)\n",
    "kfold.get_n_splits(X)\n",
    "\n",
    "for train_index, valid_index in kfold.split(X):\n",
    "    X_train, X_valid = X[train_index], X[valid_index]\n",
    "    y_train, y_valid = y[train_index], y[valid_index]\n",
    "        \n",
    "    regressor = RandomForestRegressor(**hyperparameters)\n",
    "    t0 = time.time()\n",
    "    regressor.fit(X_train, y_train)\n",
    "    print(\"Fit in %0.3fs\" % (time.time() - t0))\n",
    "    y_pred = regressor.predict(X_valid)\n",
    "\n",
    "    curr_mape_err = mape_error(np.exp(y_valid), np.exp(y_pred))\n",
    "    curr_rmse_err = np.sqrt(mse(np.exp(y_valid), np.exp(y_pred)))\n",
    "    curr_mae_err = mae(np.exp(y_valid), np.exp(y_pred))\n",
    "    \n",
    "    mape_err.append(curr_mape_err)\n",
    "    rmse_err.append(curr_rmse_err)\n",
    "    mae_err.append(curr_mae_err)\n",
    "    print(\"MAPE error: {} | MSE error: {} | MAE error: {}\".format(curr_mape_err, curr_rmse_err, curr_mae_err))\n",
    "        \n",
    "print(\"*** MAPE Error : mean =\", np.mean(mape_err), '; std =', np.std(mape_err))\n",
    "print(\"*** RMSE Error : mean =\", np.mean(rmse_err), '; std =', np.std(rmse_err))\n",
    "print(\"*** MAE Error : mean =\", np.mean(mae_err), '; std =', np.std(mae_err))"
   ]
  },
  {
   "cell_type": "markdown",
   "metadata": {},
   "source": [
    " **Feature importance**"
   ]
  },
  {
   "cell_type": "code",
   "execution_count": 56,
   "metadata": {},
   "outputs": [
    {
     "data": {
      "text/plain": [
       "<AxesSubplot:title={'center':'Feature importances (Train set)'}>"
      ]
     },
     "execution_count": 56,
     "metadata": {},
     "output_type": "execute_result"
    },
    {
     "data": {
      "image/png": "[encoded data removed]",
      "text/plain": [
       "<Figure size 1728x1152 with 1 Axes>"
      ]
     },
     "metadata": {
      "needs_background": "light"
     },
     "output_type": "display_data"
    }
   ],
   "source": [
    "importance_df = pd.DataFrame(clf.feature_importances_, columns=[\"Importance\"], index=list(FEATURES)).sort_values(['Importance'], ascending = True)\n",
    "importance_df = importance_df.iloc[-30:]  \n",
    "importance_df.plot(kind='barh', title =\"Feature importances (Train set)\", grid=True, figsize=(24, 16))"
   ]
  },
  {
   "cell_type": "markdown",
   "metadata": {},
   "source": [
    "**We use the last validation set and use it to make predictions**\n",
    "\n",
    "We visualize the scatter plot of the predictions and compute a correlation metric.\n"
   ]
  },
  {
   "cell_type": "markdown",
   "metadata": {},
   "source": [
    "Train"
   ]
  },
  {
   "cell_type": "code",
   "execution_count": 48,
   "metadata": {},
   "outputs": [
    {
     "name": "stderr",
     "output_type": "stream",
     "text": [
      "[Parallel(n_jobs=8)]: Using backend ThreadingBackend with 8 concurrent workers.\n",
      "[Parallel(n_jobs=8)]: Done  34 tasks      | elapsed:    0.0s\n",
      "[Parallel(n_jobs=8)]: Done  50 out of  50 | elapsed:    0.0s finished\n"
     ]
    },
    {
     "data": {
      "image/png": "[encoded data removed]",
      "text/plain": [
       "<Figure size 432x288 with 1 Axes>"
      ]
     },
     "metadata": {
      "needs_background": "light"
     },
     "output_type": "display_data"
    }
   ],
   "source": [
    "#plt.scatter(np.exp(y_pred), np.exp(y_valid), c='blue')\n",
    "y_pred_train = clf.predict(X_train)\n",
    "r = pearsonr(y_train, y_pred_train)\n",
    "plt.scatter(y_pred_train, y_train, c='blue')\n",
    "plt.plot(y_train, y_train, c='red')\n",
    "plt.grid()\n",
    "plt.xlabel(\"(log) Predictions\")\n",
    "plt.ylabel(\"(log) Groundtruth Price\")\n",
    "plt.title(\"Pearson correlation = {}\".format(r[0]))\n",
    "plt.show()"
   ]
  },
  {
   "cell_type": "markdown",
   "metadata": {},
   "source": [
    "## Hyperparameter tuning"
   ]
  },
  {
   "cell_type": "markdown",
   "metadata": {},
   "source": [
    "**Train test split**"
   ]
  },
  {
   "cell_type": "code",
   "execution_count": 58,
   "metadata": {},
   "outputs": [
    {
     "data": {
      "text/plain": [
       "((6851, 592), (1713, 592))"
      ]
     },
     "execution_count": 58,
     "metadata": {},
     "output_type": "execute_result"
    }
   ],
   "source": [
    "X = train_df[FEATURES].values\n",
    "y = train_df['logprice'].values\n",
    "X_train, X_test, y_train, y_test = train_test_split(X, y, test_size=0.2, random_state=0)\n",
    "\n",
    "X_train.shape, X_test.shape"
   ]
  },
  {
   "cell_type": "markdown",
   "metadata": {},
   "source": [
    "**Hyperparameters search grid**"
   ]
  },
  {
   "cell_type": "markdown",
   "metadata": {},
   "source": [
    "We will try adjusting the following set of hyperparameters:\n",
    "\n",
    "- n_estimators = number of trees in the foreset\n",
    "- max_features = max number of features considered for splitting a node\n",
    "- max_depth = max number of levels in each decision tree\n",
    "- min_samples_split = min number of data points placed in a node before the node is split\n",
    "- min_samples_leaf = min number of data points allowed in a leaf node\n",
    "- bootstrap = method for sampling data points (with or without replacement)"
   ]
  },
  {
   "cell_type": "code",
   "execution_count": 72,
   "metadata": {},
   "outputs": [
    {
     "name": "stdout",
     "output_type": "stream",
     "text": [
      "{'n_estimators': [200, 400, 600, 800, 1000, 1200, 1400, 1600, 1800, 2000], 'max_depth': [10, 20, 30, 40, 50, 60, 70, 80, 90, 100, 110, None], 'max_features': ['auto', 'sqrt']}\n"
     ]
    }
   ],
   "source": [
    "# Number of trees in random forest\n",
    "n_estimators = [int(x) for x in np.linspace(start = 200, stop = 2000, num = 10)]\n",
    "# Number of features to consider at every split\n",
    "max_features = ['auto', 'sqrt']\n",
    "# Maximum number of levels in tree\n",
    "max_depth = [int(x) for x in np.linspace(10, 110, num = 11)]\n",
    "max_depth.append(None)\n",
    "# Minimum number of samples required to split a node\n",
    "min_samples_split = [2, 5, 10]\n",
    "# Minimum number of samples required at each leaf node\n",
    "min_samples_leaf = [1, 2, 4]\n",
    "# Method of selecting samples for training each tree\n",
    "bootstrap = [True, False]\n",
    "# Create the random grid\n",
    "random_grid = {'n_estimators': n_estimators,\n",
    "               'max_depth': max_depth,\n",
    "              'max_features': max_features\n",
    "              }\n",
    "print(random_grid)"
   ]
  },
  {
   "cell_type": "code",
   "execution_count": null,
   "metadata": {},
   "outputs": [
    {
     "name": "stdout",
     "output_type": "stream",
     "text": [
      "Fitting 3 folds for each of 20 candidates, totalling 60 fits\n"
     ]
    }
   ],
   "source": [
    "rf = RandomForestRegressor()\n",
    "rf_random = RandomizedSearchCV(estimator = rf,\n",
    "                               param_distributions = random_grid,\n",
    "                               n_iter = 20,\n",
    "                               cv = 3,\n",
    "                               verbose=2,\n",
    "                               random_state=42,\n",
    "                               n_jobs = -1\n",
    "                              )\n",
    "\n",
    "# Fit the random search model\n",
    "rf_random.fit(X_train, y_train)"
   ]
  },
  {
   "cell_type": "markdown",
   "metadata": {},
   "source": [
    "**Best parameters**"
   ]
  },
  {
   "cell_type": "code",
   "execution_count": null,
   "metadata": {},
   "outputs": [],
   "source": [
    "rf_random.best_params_"
   ]
  },
  {
   "cell_type": "markdown",
   "metadata": {},
   "source": [
    "**Predictions**"
   ]
  },
  {
   "cell_type": "code",
   "execution_count": null,
   "metadata": {},
   "outputs": [],
   "source": [
    "rf_best = rf_random.best_estimator_\n",
    "y_pred_test = rf_best.predict(X_test)\n",
    "\n",
    "mape_test = mape_error(np.exp(y_test), np.exp(y_pred_test))\n",
    "rmse_test = np.sqrt(mse(np.exp(y_test), np.exp(y_pred_test)))\n",
    "mae_test = mae(np.exp(y_test), np.exp(y_pred_test))"
   ]
  },
  {
   "cell_type": "markdown",
   "metadata": {},
   "source": [
    "***Scatter plot***"
   ]
  },
  {
   "cell_type": "code",
   "execution_count": null,
   "metadata": {},
   "outputs": [],
   "source": [
    "#plt.scatter(np.exp(y_pred), np.exp(y_valid), c='blue')\n",
    "\n",
    "r = pearsonr(y_test, y_pred_test)\n",
    "plt.scatter(y_pred_test, y_test, c='blue')\n",
    "plt.plot(y_pred_test, y_test, c='red')\n",
    "plt.grid()\n",
    "plt.xlabel(\"(log) Predictions\")\n",
    "plt.ylabel(\"(log) Groundtruth Price\")\n",
    "plt.title(\"Pearson correlation = {}\".format(r[0]))\n",
    "plt.show()"
   ]
  }
 ],
 "metadata": {
  "kernelspec": {
   "display_name": "Python 3 (ipykernel)",
   "language": "python",
   "name": "python3"
  },
  "language_info": {
   "codemirror_mode": {
    "name": "ipython",
    "version": 3
   },
   "file_extension": ".py",
   "mimetype": "text/x-python",
   "name": "python",
   "nbconvert_exporter": "python",
   "pygments_lexer": "ipython3",
   "version": "3.7.12"
  }
 },
 "nbformat": 4,
 "nbformat_minor": 2
}
